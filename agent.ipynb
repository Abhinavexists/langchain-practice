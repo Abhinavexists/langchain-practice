{
 "cells": [
  {
   "cell_type": "markdown",
   "metadata": {},
   "source": [
    "### Install the required dependencies\n",
    "i am using Mistral AI and Sqlite"
   ]
  },
  {
   "cell_type": "code",
   "execution_count": null,
   "metadata": {},
   "outputs": [],
   "source": [
    "# %pip install -U langchain-community langgraph langchain-mistralai tavily-python langgraph-checkpoint-sqlite"
   ]
  },
  {
   "cell_type": "markdown",
   "metadata": {},
   "source": [
    "Setup [Langsmith](https://www.langchain.com/langsmith) and [Tavily API Key](https://tavily.com/)"
   ]
  },
  {
   "cell_type": "code",
   "execution_count": null,
   "metadata": {},
   "outputs": [],
   "source": [
    "import getpass\n",
    "import os\n",
    "\n",
    "os.environ[\"LANGSMITH_TRACING\"] = \"true\"\n",
    "os.environ[\"LANGSMITH_API_KEY\"] = getpass.getpass(\"Enter API key for LangSmith: \")\n",
    "os.environ[\"TAVILY_API_KEY\"] = getpass.getpass(\"Enter API key for Tavily: \")"
   ]
  },
  {
   "cell_type": "markdown",
   "metadata": {},
   "source": [
    "Tavily search engine as tool."
   ]
  },
  {
   "cell_type": "code",
   "execution_count": null,
   "metadata": {},
   "outputs": [
    {
     "name": "stdout",
     "output_type": "stream",
     "text": [
      "1.Weather in Delhi, India-{'location': {'name': 'Delhi', 'region': 'Delhi', 'country': 'India', 'lat': 28.6667, 'lon': 77.2167, 'tz_id': 'Asia/Kolkata', 'localtime_epoch': 1743221809, 'localtime': '2025-03-29 09:46'}, 'current': {'last_updated_epoch': 1743221700, 'last_updated': '2025-03-29 09:45', 'temp_c': 24.9, 'temp_f': 76.7, 'is_day': 1, 'condition': {'text': 'Partly Cloudy', 'icon': '//cdn.weatherapi.com/weather/64x64/day/116.png', 'code': 1003}, 'wind_mph': 14.1, 'wind_kph': 22.7, 'wind_degree': 306, 'wind_dir': 'NW', 'pressure_mb': 1011.0, 'pressure_in': 29.87, 'precip_mm': 0.0, 'precip_in': 0.0, 'humidity': 7, 'cloud': 33, 'feelslike_c': 23.7, 'feelslike_f': 74.6, 'windchill_c': 24.9, 'windchill_f': 76.7, 'heatindex_c': 23.7, 'heatindex_f': 74.6, 'dewpoint_c': -13.1, 'dewpoint_f': 8.4, 'vis_km': 10.0, 'vis_miles': 6.0, 'uv': 3.8, 'gust_mph': 16.2, 'gust_kph': 26.1}}\n",
      "2.Delhi Weather Today, Delhi Temperature and Air Quality (2025-03-29)-Delhi Weather Today (Saturday, Mar 29, 2025) · Sat29/03/25 Clouds 34° · Sun30/03/25 Clouds 36° · Mon31/03/25 Clear 37° · Tue01/04/25 Clear 38° · Wed02/04/25 Clear 38\n"
     ]
    }
   ],
   "source": [
    "from langchain_community.tools.tavily_search import TavilySearchResults\n",
    "\n",
    "search = TavilySearchResults(max_results=2)\n",
    "search_results = search.invoke(\"what is weather in Delhi\")\n",
    "# print(search_results) - give results in JSON\n",
    "tools = [search] \n",
    "# Assigning search to tools allows you to pass this list to an \n",
    "# LLM-powered agent so it can decide which tool to use.\n",
    "\n",
    "json_to_string_results = \"\\n\".join([\n",
    "    f\"{idx+1}.{result['title']}-{result['content']}\" \n",
    "    for idx,result in enumerate(search_results)\n",
    "    ])\n",
    "print(json_to_string_results)"
   ]
  },
  {
   "cell_type": "markdown",
   "metadata": {},
   "source": [
    "### Using LLM"
   ]
  },
  {
   "cell_type": "markdown",
   "metadata": {},
   "source": [
    "Install the language model (can change based on your preference)"
   ]
  },
  {
   "cell_type": "code",
   "execution_count": null,
   "metadata": {},
   "outputs": [],
   "source": [
    "# pip install -qU \"langchain[mistralai]\""
   ]
  },
  {
   "cell_type": "code",
   "execution_count": null,
   "metadata": {},
   "outputs": [],
   "source": [
    "from langchain.chat_models import init_chat_model\n",
    "# checks if key is avaliable  and if not, ask user to enter one\n",
    "if not os.environ.get(\"MISTRAL_API_KEY\"):\n",
    "    os.environ[\"MISTRAL_API_KEY\"] = getpass.getpass(\"Enter API key for Mistral AI: \")\n",
    "\n",
    "model = init_chat_model(\"mistral-large-latest\", model_provider=\"mistralai\")\n",
    "# "
   ]
  },
  {
   "cell_type": "markdown",
   "metadata": {},
   "source": [
    "You can call the language model by passing in a list of messages. By default, the response is a content string."
   ]
  },
  {
   "cell_type": "code",
   "execution_count": 10,
   "metadata": {},
   "outputs": [
    {
     "data": {
      "text/plain": [
       "\"Hello! How can I assist you today? Let's have a friendly conversation. 😊 How are you doing?\""
      ]
     },
     "execution_count": 10,
     "metadata": {},
     "output_type": "execute_result"
    }
   ],
   "source": [
    "from langchain_core.messages import HumanMessage\n",
    "\n",
    "response = model.invoke([HumanMessage(content=\"hi!\")])\n",
    "response.content"
   ]
  },
  {
   "cell_type": "code",
   "execution_count": 11,
   "metadata": {},
   "outputs": [],
   "source": [
    "# to enable this model to do tool calling we use .bind_tools\n",
    "# to give the language model knowledge of these tools\n",
    "model_with_tools = model.bind_tools(tools)"
   ]
  },
  {
   "cell_type": "code",
   "execution_count": 12,
   "metadata": {},
   "outputs": [
    {
     "name": "stdout",
     "output_type": "stream",
     "text": [
      "ContentString: Hello! How can I assist you today?\n",
      "ToolCalls: []\n"
     ]
    }
   ],
   "source": [
    "response = model_with_tools.invoke([HumanMessage(content=\"Hi!\")])\n",
    "\n",
    "print(f\"ContentString: {response.content}\")\n",
    "print(f\"ToolCalls: {response.tool_calls}\")\n",
    "# there was no tool called for this input to process so it returned empty"
   ]
  },
  {
   "cell_type": "code",
   "execution_count": 13,
   "metadata": {},
   "outputs": [
    {
     "name": "stdout",
     "output_type": "stream",
     "text": [
      "ContentString: \n",
      "ToolCalls: [{'name': 'tavily_search_results_json', 'args': {'query': 'weather in Delhi'}, 'id': 'H6yI33aHA', 'type': 'tool_call'}]\n"
     ]
    }
   ],
   "source": [
    "# Now, let's try calling it with some input that would expect a tool to be called.\n",
    "response = model_with_tools.invoke([HumanMessage(content=\"What's the weather in Delhi?\")])\n",
    "\n",
    "print(f\"ContentString: {response.content}\")\n",
    "print(f\"ToolCalls: {response.tool_calls}\")\n",
    "\n",
    "# Many LLMs (including Mistral and OpenAI's models) \n",
    "# will decide whether to call a tool only if they think it's necessary."
   ]
  },
  {
   "cell_type": "markdown",
   "metadata": {},
   "source": [
    "Using ReAct(Reasoning + Acting) agent"
   ]
  },
  {
   "cell_type": "code",
   "execution_count": 14,
   "metadata": {},
   "outputs": [],
   "source": [
    "from langgraph.prebuilt import create_react_agent\n",
    "\n",
    "agent_executor = create_react_agent(model, tools)"
   ]
  },
  {
   "cell_type": "code",
   "execution_count": 15,
   "metadata": {},
   "outputs": [
    {
     "data": {
      "text/plain": [
       "[HumanMessage(content='hi!', additional_kwargs={}, response_metadata={}, id='79184db7-fae0-445f-bb3e-3c0e82ffc7f0'),\n",
       " AIMessage(content='Hello! How can I assist you today?', additional_kwargs={}, response_metadata={'token_usage': {'prompt_tokens': 109, 'total_tokens': 119, 'completion_tokens': 10}, 'model_name': 'mistral-large-latest', 'model': 'mistral-large-latest', 'finish_reason': 'stop'}, id='run-e81d8376-f18f-441c-b3f3-332d651dd6a9-0', usage_metadata={'input_tokens': 109, 'output_tokens': 10, 'total_tokens': 119})]"
      ]
     },
     "execution_count": 15,
     "metadata": {},
     "output_type": "execute_result"
    }
   ],
   "source": [
    "response = agent_executor.invoke({\"messages\": [HumanMessage(content=\"hi!\")]})\n",
    "response[\"messages\"]"
   ]
  },
  {
   "cell_type": "code",
   "execution_count": 16,
   "metadata": {},
   "outputs": [
    {
     "data": {
      "text/plain": [
       "[HumanMessage(content='What is the weather in Delhi?', additional_kwargs={}, response_metadata={}, id='459683ea-e6fd-417d-b6d7-1245bda8ea8e'),\n",
       " AIMessage(content='', additional_kwargs={'tool_calls': [{'id': 'PszTYxLw4', 'function': {'name': 'tavily_search_results_json', 'arguments': '{\"query\": \"weather in Delhi\"}'}, 'index': 0}]}, response_metadata={'token_usage': {'prompt_tokens': 114, 'total_tokens': 145, 'completion_tokens': 31}, 'model_name': 'mistral-large-latest', 'model': 'mistral-large-latest', 'finish_reason': 'tool_calls'}, id='run-ac33f8f9-e045-410e-8fd2-716df1c23ee8-0', tool_calls=[{'name': 'tavily_search_results_json', 'args': {'query': 'weather in Delhi'}, 'id': 'PszTYxLw4', 'type': 'tool_call'}], usage_metadata={'input_tokens': 114, 'output_tokens': 31, 'total_tokens': 145}),\n",
       " ToolMessage(content='[{\"title\": \"Weather in Delhi, India\", \"url\": \"https://www.weatherapi.com/\", \"content\": \"{\\'location\\': {\\'name\\': \\'Delhi\\', \\'region\\': \\'Delhi\\', \\'country\\': \\'India\\', \\'lat\\': 28.6667, \\'lon\\': 77.2167, \\'tz_id\\': \\'Asia/Kolkata\\', \\'localtime_epoch\\': 1743227871, \\'localtime\\': \\'2025-03-29 11:27\\'}, \\'current\\': {\\'last_updated_epoch\\': 1743227100, \\'last_updated\\': \\'2025-03-29 11:15\\', \\'temp_c\\': 29.5, \\'temp_f\\': 85.0, \\'is_day\\': 1, \\'condition\\': {\\'text\\': \\'Partly Cloudy\\', \\'icon\\': \\'//cdn.weatherapi.com/weather/64x64/day/116.png\\', \\'code\\': 1003}, \\'wind_mph\\': 13.2, \\'wind_kph\\': 21.2, \\'wind_degree\\': 311, \\'wind_dir\\': \\'NW\\', \\'pressure_mb\\': 1010.0, \\'pressure_in\\': 29.83, \\'precip_mm\\': 0.0, \\'precip_in\\': 0.0, \\'humidity\\': 4, \\'cloud\\': 32, \\'feelslike_c\\': 27.3, \\'feelslike_f\\': 81.1, \\'windchill_c\\': 29.5, \\'windchill_f\\': 85.0, \\'heatindex_c\\': 27.3, \\'heatindex_f\\': 81.1, \\'dewpoint_c\\': -15.3, \\'dewpoint_f\\': 4.5, \\'vis_km\\': 10.0, \\'vis_miles\\': 6.0, \\'uv\\': 6.5, \\'gust_mph\\': 15.2, \\'gust_kph\\': 24.4}}\", \"score\": 0.989011}, {\"title\": \"Weather Delhi in March 2025: Temperature & Climate\", \"url\": \"https://en.climate-data.org/asia/india/delhi/delhi-967662/t/march-3/\", \"content\": \"29. March | 25 °C | 77 °F | 32 °C | 90 °F | 18 °C | 64 °F | 0.4 mm | 0.0 inch.\\\\n30. March | 25 °C | 77 °F | 32 °C | 90 °F | 18 °C | 64 °F | 1.3 mm | 0.1 inch.\\\\n31. March | 25 °C | 78 °F | 33 °C | 91 °F | 17 °C | 63 °F | 1.6 mm | 0.1 inch.\\\\nAirport close to Delhi [...] Max. Temperature °C (°F) | 19.8 °C(67.7) °F | 23.4 °C(74.2) °F | 29.7 °C(85.4) °F | 36.6 °C(97.9) °F | 39.5 °C(103.1) °F | 38.1 °C(100.7) °F | 33.6 °C(92.5) °F | 32.4 °C(90.3) °F | 32.3 °C(90.2) °F | 31.9 °C(89.4) °F | 27.3 °C(81.2) °F | 22.1 °C(71.8) °F\\\\nPrecipitation / Rainfall mm (in) | 25(0) | 37(1) | 22(0) | 15(0) | 19(0) | 74(2) | 205(8) | 182(7) | 105(4) | 14(0) | 5(0) | 8(0)\\\\nHumidity(%) | 68% | 62% | 48% | 29% | 32% | 47% | 72% | 77% | 72% | 55% | 54% | 62% [...] 23.4 °C\\\\n\\\\n(74.2) °F\\\\n\\\\n29.7 °C\\\\n\\\\n(85.4) °F\\\\n\\\\n36.6 °C\\\\n\\\\n(97.9) °F\\\\n\\\\n39.5 °C\\\\n\\\\n(103.1) °F\\\\n\\\\n38.1 °C\\\\n\\\\n(100.7) °F\\\\n\\\\n33.6 °C\\\\n\\\\n(92.5) °F\\\\n\\\\n32.4 °C\\\\n\\\\n(90.3) °F\\\\n\\\\n32.3 °C\\\\n\\\\n(90.2) °F\\\\n\\\\n31.9 °C\\\\n\\\\n(89.4) °F\\\\n\\\\n27.3 °C\\\\n\\\\n(81.2) °F\\\\n\\\\n22.1 °C\\\\n\\\\n(71.8) °F\\\\n\\\\n25\\\\n\\\\n(0)\\\\n\\\\n37\\\\n\\\\n(1)\\\\n\\\\n22\\\\n\\\\n(0)\\\\n\\\\n15\\\\n\\\\n(0)\\\\n\\\\n19\\\\n\\\\n(0)\\\\n\\\\n74\\\\n\\\\n(2)\\\\n\\\\n205\\\\n\\\\n(8)\\\\n\\\\n182\\\\n\\\\n(7)\\\\n\\\\n105\\\\n\\\\n(4)\\\\n\\\\n14\\\\n\\\\n(0)\\\\n\\\\n5\\\\n\\\\n(0)\\\\n\\\\n8\\\\n\\\\n(0)\", \"score\": 0.8446273}]', name='tavily_search_results_json', id='49f91c54-f42d-4c0f-8048-e8a64b671847', tool_call_id='PszTYxLw4', artifact={'query': 'weather in Delhi', 'follow_up_questions': None, 'answer': None, 'images': [], 'results': [{'title': 'Weather in Delhi, India', 'url': 'https://www.weatherapi.com/', 'content': \"{'location': {'name': 'Delhi', 'region': 'Delhi', 'country': 'India', 'lat': 28.6667, 'lon': 77.2167, 'tz_id': 'Asia/Kolkata', 'localtime_epoch': 1743227871, 'localtime': '2025-03-29 11:27'}, 'current': {'last_updated_epoch': 1743227100, 'last_updated': '2025-03-29 11:15', 'temp_c': 29.5, 'temp_f': 85.0, 'is_day': 1, 'condition': {'text': 'Partly Cloudy', 'icon': '//cdn.weatherapi.com/weather/64x64/day/116.png', 'code': 1003}, 'wind_mph': 13.2, 'wind_kph': 21.2, 'wind_degree': 311, 'wind_dir': 'NW', 'pressure_mb': 1010.0, 'pressure_in': 29.83, 'precip_mm': 0.0, 'precip_in': 0.0, 'humidity': 4, 'cloud': 32, 'feelslike_c': 27.3, 'feelslike_f': 81.1, 'windchill_c': 29.5, 'windchill_f': 85.0, 'heatindex_c': 27.3, 'heatindex_f': 81.1, 'dewpoint_c': -15.3, 'dewpoint_f': 4.5, 'vis_km': 10.0, 'vis_miles': 6.0, 'uv': 6.5, 'gust_mph': 15.2, 'gust_kph': 24.4}}\", 'score': 0.989011, 'raw_content': None}, {'url': 'https://en.climate-data.org/asia/india/delhi/delhi-967662/t/march-3/', 'title': 'Weather Delhi in March 2025: Temperature & Climate', 'content': '29. March | 25 °C | 77 °F | 32 °C | 90 °F | 18 °C | 64 °F | 0.4 mm | 0.0 inch.\\n30. March | 25 °C | 77 °F | 32 °C | 90 °F | 18 °C | 64 °F | 1.3 mm | 0.1 inch.\\n31. March | 25 °C | 78 °F | 33 °C | 91 °F | 17 °C | 63 °F | 1.6 mm | 0.1 inch.\\nAirport close to Delhi [...] Max. Temperature °C (°F) | 19.8 °C(67.7) °F | 23.4 °C(74.2) °F | 29.7 °C(85.4) °F | 36.6 °C(97.9) °F | 39.5 °C(103.1) °F | 38.1 °C(100.7) °F | 33.6 °C(92.5) °F | 32.4 °C(90.3) °F | 32.3 °C(90.2) °F | 31.9 °C(89.4) °F | 27.3 °C(81.2) °F | 22.1 °C(71.8) °F\\nPrecipitation / Rainfall mm (in) | 25(0) | 37(1) | 22(0) | 15(0) | 19(0) | 74(2) | 205(8) | 182(7) | 105(4) | 14(0) | 5(0) | 8(0)\\nHumidity(%) | 68% | 62% | 48% | 29% | 32% | 47% | 72% | 77% | 72% | 55% | 54% | 62% [...] 23.4 °C\\n\\n(74.2) °F\\n\\n29.7 °C\\n\\n(85.4) °F\\n\\n36.6 °C\\n\\n(97.9) °F\\n\\n39.5 °C\\n\\n(103.1) °F\\n\\n38.1 °C\\n\\n(100.7) °F\\n\\n33.6 °C\\n\\n(92.5) °F\\n\\n32.4 °C\\n\\n(90.3) °F\\n\\n32.3 °C\\n\\n(90.2) °F\\n\\n31.9 °C\\n\\n(89.4) °F\\n\\n27.3 °C\\n\\n(81.2) °F\\n\\n22.1 °C\\n\\n(71.8) °F\\n\\n25\\n\\n(0)\\n\\n37\\n\\n(1)\\n\\n22\\n\\n(0)\\n\\n15\\n\\n(0)\\n\\n19\\n\\n(0)\\n\\n74\\n\\n(2)\\n\\n205\\n\\n(8)\\n\\n182\\n\\n(7)\\n\\n105\\n\\n(4)\\n\\n14\\n\\n(0)\\n\\n5\\n\\n(0)\\n\\n8\\n\\n(0)', 'score': 0.8446273, 'raw_content': None}], 'response_time': 2.64}),\n",
       " AIMessage(content=[{'type': 'text', 'text': 'The current weather in Delhi is partly cloudy with a temperature of 29.5°C (85.0°F). The wind is blowing from the northwest at 21.2 km/h, with a humidity level of 4%. The feels-like temperature is 27.3°C (81.1°F) '}, {'type': 'reference', 'reference_ids': [1]}, {'type': 'text', 'text': '.\\n\\nFor the upcoming days in March 2025, the forecast is as follows:\\n- March 29: Temperature ranges from 25°C to 32°C (77°F to 90°F) with minimal precipitation.\\n- March 30: Temperature ranges from 25°C to 32°C (77°F to 90°F) with 1.3 mm of precipitation.\\n- March 31: Temperature ranges from 25°C to 33°C (78°F to 91°F) with 1.6 mm of precipitation '}, {'type': 'reference', 'reference_ids': [2]}, {'type': 'text', 'text': '.'}], additional_kwargs={}, response_metadata={'token_usage': {'prompt_tokens': 1710, 'total_tokens': 1946, 'completion_tokens': 236}, 'model_name': 'mistral-large-latest', 'model': 'mistral-large-latest', 'finish_reason': 'stop'}, id='run-ad24d5e3-1e61-4c33-a31f-299bc992dbe5-0', usage_metadata={'input_tokens': 1710, 'output_tokens': 236, 'total_tokens': 1946})]"
      ]
     },
     "execution_count": 16,
     "metadata": {},
     "output_type": "execute_result"
    }
   ],
   "source": [
    "response = agent_executor.invoke({\"messages\": [HumanMessage(content=\"What is the weather in Delhi?\")]})\n",
    "response[\"messages\"]"
   ]
  },
  {
   "cell_type": "markdown",
   "metadata": {},
   "source": [
    "invkoing tool calls"
   ]
  },
  {
   "cell_type": "code",
   "execution_count": 17,
   "metadata": {},
   "outputs": [
    {
     "name": "stdout",
     "output_type": "stream",
     "text": [
      "================================\u001b[1m Human Message \u001b[0m=================================\n",
      "\n",
      "What is the weather in Delhi?\n",
      "==================================\u001b[1m Ai Message \u001b[0m==================================\n",
      "Tool Calls:\n",
      "  tavily_search_results_json (aFKxznpC5)\n",
      " Call ID: aFKxznpC5\n",
      "  Args:\n",
      "    query: weather in Delhi\n",
      "=================================\u001b[1m Tool Message \u001b[0m=================================\n",
      "Name: tavily_search_results_json\n",
      "\n",
      "[{\"title\": \"Weather in Delhi, India\", \"url\": \"https://www.weatherapi.com/\", \"content\": \"{'location': {'name': 'Delhi', 'region': 'Delhi', 'country': 'India', 'lat': 28.6667, 'lon': 77.2167, 'tz_id': 'Asia/Kolkata', 'localtime_epoch': 1743227871, 'localtime': '2025-03-29 11:27'}, 'current': {'last_updated_epoch': 1743227100, 'last_updated': '2025-03-29 11:15', 'temp_c': 29.5, 'temp_f': 85.0, 'is_day': 1, 'condition': {'text': 'Partly Cloudy', 'icon': '//cdn.weatherapi.com/weather/64x64/day/116.png', 'code': 1003}, 'wind_mph': 13.2, 'wind_kph': 21.2, 'wind_degree': 311, 'wind_dir': 'NW', 'pressure_mb': 1010.0, 'pressure_in': 29.83, 'precip_mm': 0.0, 'precip_in': 0.0, 'humidity': 4, 'cloud': 32, 'feelslike_c': 27.3, 'feelslike_f': 81.1, 'windchill_c': 29.5, 'windchill_f': 85.0, 'heatindex_c': 27.3, 'heatindex_f': 81.1, 'dewpoint_c': -15.3, 'dewpoint_f': 4.5, 'vis_km': 10.0, 'vis_miles': 6.0, 'uv': 6.5, 'gust_mph': 15.2, 'gust_kph': 24.4}}\", \"score\": 0.989011}, {\"title\": \"Weather Delhi in March 2025: Temperature & Climate\", \"url\": \"https://en.climate-data.org/asia/india/delhi/delhi-967662/t/march-3/\", \"content\": \"29. March | 25 °C | 77 °F | 32 °C | 90 °F | 18 °C | 64 °F | 0.4 mm | 0.0 inch.\\n30. March | 25 °C | 77 °F | 32 °C | 90 °F | 18 °C | 64 °F | 1.3 mm | 0.1 inch.\\n31. March | 25 °C | 78 °F | 33 °C | 91 °F | 17 °C | 63 °F | 1.6 mm | 0.1 inch.\\nAirport close to Delhi [...] Max. Temperature °C (°F) | 19.8 °C(67.7) °F | 23.4 °C(74.2) °F | 29.7 °C(85.4) °F | 36.6 °C(97.9) °F | 39.5 °C(103.1) °F | 38.1 °C(100.7) °F | 33.6 °C(92.5) °F | 32.4 °C(90.3) °F | 32.3 °C(90.2) °F | 31.9 °C(89.4) °F | 27.3 °C(81.2) °F | 22.1 °C(71.8) °F\\nPrecipitation / Rainfall mm (in) | 25(0) | 37(1) | 22(0) | 15(0) | 19(0) | 74(2) | 205(8) | 182(7) | 105(4) | 14(0) | 5(0) | 8(0)\\nHumidity(%) | 68% | 62% | 48% | 29% | 32% | 47% | 72% | 77% | 72% | 55% | 54% | 62% [...] 23.4 °C\\n\\n(74.2) °F\\n\\n29.7 °C\\n\\n(85.4) °F\\n\\n36.6 °C\\n\\n(97.9) °F\\n\\n39.5 °C\\n\\n(103.1) °F\\n\\n38.1 °C\\n\\n(100.7) °F\\n\\n33.6 °C\\n\\n(92.5) °F\\n\\n32.4 °C\\n\\n(90.3) °F\\n\\n32.3 °C\\n\\n(90.2) °F\\n\\n31.9 °C\\n\\n(89.4) °F\\n\\n27.3 °C\\n\\n(81.2) °F\\n\\n22.1 °C\\n\\n(71.8) °F\\n\\n25\\n\\n(0)\\n\\n37\\n\\n(1)\\n\\n22\\n\\n(0)\\n\\n15\\n\\n(0)\\n\\n19\\n\\n(0)\\n\\n74\\n\\n(2)\\n\\n205\\n\\n(8)\\n\\n182\\n\\n(7)\\n\\n105\\n\\n(4)\\n\\n14\\n\\n(0)\\n\\n5\\n\\n(0)\\n\\n8\\n\\n(0)\", \"score\": 0.8446273}]\n",
      "==================================\u001b[1m Ai Message \u001b[0m==================================\n",
      "\n",
      "The current weather in Delhi is partly cloudy with a temperature of 29.5°C (85.0°F). The humidity is at 4%, and the wind is blowing from the northwest at 21.2 km/h. The UV index is 6.5, and the visibility is 10.0 km.\n",
      "\n",
      "For the upcoming days in March 2025, the forecast is as follows:\n",
      "- March 29: Temperature ranges from 25°C to 32°C (77°F to 90°F), with minimal precipitation.\n",
      "- March 30: Temperature ranges from 25°C to 32°C (77°F to 90°F), with 1.3 mm of precipitation.\n",
      "- March 31: Temperature ranges from 25°C to 33°C (78°F to 91°F), with 1.6 mm of precipitation.\n"
     ]
    }
   ],
   "source": [
    "# If the agent executes multiple steps, this may take a while. \n",
    "# To show intermediate progress, we can stream back messages as they occur.\n",
    "\n",
    "for step in agent_executor.stream(\n",
    "    {\"messages\": [HumanMessage(content=\"What is the weather in Delhi?\")]},\n",
    "    stream_mode=\"values\", \n",
    "):\n",
    "    step[\"messages\"][-1].pretty_print()"
   ]
  },
  {
   "cell_type": "markdown",
   "metadata": {},
   "source": [
    "Streaming Messages"
   ]
  },
  {
   "cell_type": "code",
   "execution_count": 18,
   "metadata": {},
   "outputs": [
    {
     "name": "stdout",
     "output_type": "stream",
     "text": [
      "The| current| weather| in| Delhi| is| partly| cloud|y| with| a| temperature| of| |2|9|.|5|°|C| (|8|5|.|0|°|F|).| The| wind| is| blowing| at| |2|1|.|2| km|/|h| from| the| north|west|,| and| the| hum|idity| is| at| |4|%.| The| feels|-|like| temperature| is| |2|7|.|3|°|C| (|8|1|.|1|°|F|).| There| is| no| precip|itation| at| the| moment|,| and| the| UV| index| is| |6|.|5| |.|\n",
      "|\n",
      "|For| the| upcoming| days| in| March| |2|0|2|5|,| the| expected| temperatures| and| precip|itation| are| as| follows|:|\n",
      "|-| **|M|arch| |2|9|:**| High| of| |3|2|°|C| (|9|0|°|F|),| Low| of| |1|8|°|C| (|6|4|°|F|),| Prec|ip|itation|:| |0|.|4| mm| (|0|.|0| inches|)|\n",
      "|-| **|M|arch| |3|0|:**| High| of| |3|2|°|C| (|9|0|°|F|),| Low| of| |1|8|°|C| (|6|4|°|F|),| Prec|ip|itation|:| |1|.|3| mm| (|0|.|1| inches|)|\n",
      "|-| **|M|arch| |3|1|:**| High| of| |3|3|°|C| (|9|1|°|F|),| Low| of| |1|7|°|C| (|6|3|°|F|),| Prec|ip|itation|:| |1|.|6| mm| (|0|.|1| inches|)| |.|"
     ]
    }
   ],
   "source": [
    "for step, metadata in agent_executor.stream(\n",
    "    {\"messages\": [HumanMessage(content=\"What is the weather in Delhi?\")]},\n",
    "    stream_mode=\"messages\", \n",
    "):\n",
    "    if metadata[\"langgraph_node\"] == \"agent\" and (text := step.text()):\n",
    "        print(text, end=\"|\")"
   ]
  },
  {
   "cell_type": "markdown",
   "metadata": {},
   "source": [
    "Adding in Memory"
   ]
  },
  {
   "cell_type": "code",
   "execution_count": 19,
   "metadata": {},
   "outputs": [],
   "source": [
    "# this agent is stateless.\n",
    "# This means it does not remember previous interactions.\n",
    "# To give it memory we need to pass in a checkpointer.\n",
    "\n",
    "from langgraph.checkpoint.memory import MemorySaver\n",
    "memory = MemorySaver()"
   ]
  },
  {
   "cell_type": "markdown",
   "metadata": {},
   "source": [
    "Setting checkpoint"
   ]
  },
  {
   "cell_type": "code",
   "execution_count": 25,
   "metadata": {},
   "outputs": [],
   "source": [
    "agent_executor = create_react_agent(model, tools, checkpointer=memory)\n",
    "config = {\"configurable\": {\"thread_id\": \"abc123\"}}"
   ]
  },
  {
   "cell_type": "code",
   "execution_count": 27,
   "metadata": {},
   "outputs": [
    {
     "name": "stdout",
     "output_type": "stream",
     "text": [
      "{'agent': {'messages': [AIMessage(content=\"Hey Bob! It's good to see you again.\", additional_kwargs={}, response_metadata={'token_usage': {'prompt_tokens': 209, 'total_tokens': 222, 'completion_tokens': 13}, 'model_name': 'mistral-large-latest', 'model': 'mistral-large-latest', 'finish_reason': 'stop'}, id='run-1de7a6e9-2318-46e1-b252-708b99ab4201-0', usage_metadata={'input_tokens': 209, 'output_tokens': 13, 'total_tokens': 222})]}}\n",
      "----\n"
     ]
    }
   ],
   "source": [
    "for chunk in agent_executor.stream(\n",
    "    {\"messages\": [HumanMessage(content=\"hi im bob!\")]}, config\n",
    "    ):\n",
    "        print(chunk)\n",
    "        print(\"----\")"
   ]
  },
  {
   "cell_type": "markdown",
   "metadata": {},
   "source": [
    "If you want to start a new conversation, all you have to do is change the ```thread_id``` used"
   ]
  },
  {
   "cell_type": "code",
   "execution_count": 28,
   "metadata": {},
   "outputs": [
    {
     "name": "stdout",
     "output_type": "stream",
     "text": [
      "{'agent': {'messages': [AIMessage(content=\"I don't have access to personal information about you, including your name. If you have any other questions or need assistance with something else, feel free to ask!\", additional_kwargs={}, response_metadata={'token_usage': {'prompt_tokens': 112, 'total_tokens': 147, 'completion_tokens': 35}, 'model_name': 'mistral-large-latest', 'model': 'mistral-large-latest', 'finish_reason': 'stop'}, id='run-e32c2ece-d480-4634-8a23-a2486908b569-0', usage_metadata={'input_tokens': 112, 'output_tokens': 35, 'total_tokens': 147})]}}\n",
      "----\n"
     ]
    }
   ],
   "source": [
    "config = {\"configurable\": {\"thread_id\": \"xyz123\"}} # New Thread ID\n",
    "for chunk in agent_executor.stream(\n",
    "    {\"messages\": [HumanMessage(content=\"What is my name?\")]}, config\n",
    "    ):\n",
    "       print(chunk)\n",
    "       print(\"----\")"
   ]
  }
 ],
 "metadata": {
  "kernelspec": {
   "display_name": ".venv",
   "language": "python",
   "name": "python3"
  },
  "language_info": {
   "codemirror_mode": {
    "name": "ipython",
    "version": 3
   },
   "file_extension": ".py",
   "mimetype": "text/x-python",
   "name": "python",
   "nbconvert_exporter": "python",
   "pygments_lexer": "ipython3",
   "version": "3.12.9"
  }
 },
 "nbformat": 4,
 "nbformat_minor": 2
}
